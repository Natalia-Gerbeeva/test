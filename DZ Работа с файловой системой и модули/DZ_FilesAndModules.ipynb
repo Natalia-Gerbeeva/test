{
 "cells": [
  {
   "cell_type": "markdown",
   "metadata": {},
   "source": [
    "\n",
    "\n",
    "Переведите содержимое файла purchase_log.txt в словарь purchases вида:\n",
    "{‘1840e0b9d4’: ‘Продукты’, …}\n",
    "\n"
   ]
  },
  {
   "cell_type": "code",
   "execution_count": 1,
   "metadata": {},
   "outputs": [],
   "source": [
    "import json\n",
    "\n",
    "f = open('purchase_log.txt', 'r', encoding='utf-8')"
   ]
  },
  {
   "cell_type": "code",
   "execution_count": 2,
   "metadata": {},
   "outputs": [],
   "source": [
    "content = f.readlines()\n",
    "\n",
    "#content[:5]"
   ]
  },
  {
   "cell_type": "code",
   "execution_count": 3,
   "metadata": {},
   "outputs": [],
   "source": [
    "import csv\n",
    "\n",
    "res_dict = {}\n",
    "\n",
    "for i in content:\n",
    "    l = json.loads(i)\n",
    "    res_dict.setdefault(l[\"user_id\"], []).append(l[\"category\"])\n",
    "\n",
    "print(res_dict['d8591ff67e'])\n",
    "#Проверка результата\n",
    "w = csv.writer(open(\"v2_output.csv\", \"w+\", newline=''))\n",
    "for key, val in res_dict.items():\n",
    "    w.writerow([key, ', '.join(val)])"
   ]
  },
  {
   "cell_type": "markdown",
   "metadata": {},
   "source": [
    "Для каждого user_id в файле visit_log.csv определите третий столбец с категорией покупки (если покупка была, сам файл visit_log.csv изменять не надо). Запишите в файл funnel.csv визиты из файла visit_log.csv, в которых были покупки с указанием категории.\n",
    "Учтите условия на данные:\n",
    "содержимое purchase_log.txt помещается в оперативную память компьютера\n",
    "содержимое visit_log.csv - нет; используйте только построчную обработку этого файла\n"
   ]
  },
  {
   "cell_type": "code",
   "execution_count": 4,
   "metadata": {},
   "outputs": [
    {
     "data": {
      "text/plain": [
       "['user_id,source,category\\n',\n",
       " '1840e0b9d4,other,Продукты\\n',\n",
       " '4e4f90fcfb,context,Электроника\\n',\n",
       " 'afea8d72fc,other,Электроника\\n',\n",
       " '2824221f38,email,Продукты\\n']"
      ]
     },
     "execution_count": 4,
     "metadata": {},
     "output_type": "execute_result"
    }
   ],
   "source": [
    "#print(res_dict['d8591ff67e'])\n",
    "\n",
    "with open('visit_log.csv', 'r') as f:\n",
    "    with open('funnel.csv', 'w') as f2write:\n",
    "        for line in f:\n",
    "            key = line.split(',')[0]\n",
    "            if key in res_dict:\n",
    "                f2write.write(line.rstrip() + \",\" + str(res_dict[key]).strip(\"['']\") + \"\\n\")\n",
    "\n",
    "fl = open('funnel.csv', 'r')\n",
    "check_result = fl.readlines()\n",
    "check_result[:5]"
   ]
  }
 ],
 "metadata": {
  "kernelspec": {
   "display_name": "Python 3",
   "language": "python",
   "name": "python3"
  },
  "language_info": {
   "codemirror_mode": {
    "name": "ipython",
    "version": 3
   },
   "file_extension": ".py",
   "mimetype": "text/x-python",
   "name": "python",
   "nbconvert_exporter": "python",
   "pygments_lexer": "ipython3",
   "version": "3.7.9"
  }
 },
 "nbformat": 4,
 "nbformat_minor": 4
}
