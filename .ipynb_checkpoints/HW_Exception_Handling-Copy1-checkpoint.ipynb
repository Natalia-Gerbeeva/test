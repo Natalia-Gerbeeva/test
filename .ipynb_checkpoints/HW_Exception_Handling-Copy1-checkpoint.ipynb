{
 "cells": [
  {
   "cell_type": "code",
   "execution_count": 52,
   "metadata": {},
   "outputs": [
    {
     "name": "stdout",
     "output_type": "stream",
     "text": [
      "Sunday, September 27, 2020\n",
      "Sunday, 27.09.20\n",
      "Sunday, 27 September 2020\n"
     ]
    }
   ],
   "source": [
    "from datetime import datetime\n",
    "\n",
    "def convertDate(obj, date):\n",
    "    \"\"\"\n",
    "    Задание 1\n",
    "    Печатные газеты использовали свой формат дат для каждого выпуска. Для каждой газеты из списка напишите формат указанной даты для перевода в объект datetime:\n",
    "    The Moscow Times - Wednesday, October 2, 2002\n",
    "    The Guardian - Friday, 11.10.13\n",
    "    Daily News - Thursday, 18 August 1977\n",
    "    \"\"\"\n",
    "    if obj == \"The Moscow Times\":\n",
    "        return date.strftime('%A, %B %d, %Y')\n",
    "    if obj == \"The Guardian\":\n",
    "        return date.strftime('%A, %d.%m.%y')\n",
    "    if obj == \"Daily News\":\n",
    "        return date.strftime('%A, %d %B %Y')\n",
    "\n",
    "print(convertDate(\"The Moscow Times\", datetime.today()))\n",
    "print(convertDate(\"The Guardian\", datetime.today()))\n",
    "print(convertDate(\"Daily News\", datetime.today()))"
   ]
  },
  {
   "cell_type": "code",
   "execution_count": 19,
   "metadata": {},
   "outputs": [
    {
     "name": "stdout",
     "output_type": "stream",
     "text": [
      "2018-04-02 True\n",
      "2018-02-29 False\n",
      "2018-19-02 False\n"
     ]
    }
   ],
   "source": [
    "from datetime import datetime\n",
    "\n",
    "stream = ['2018-04-02', '2018-02-29', '2018-19-02']\n",
    "\n",
    "def checkStream(stream):\n",
    "    \"\"\"\n",
    "    Задание 2\n",
    "    Дан поток дат в формате YYYY-MM-DD, в которых встречаются некорректные значения:\n",
    "    stream = [‘2018-04-02’, ‘2018-02-29’, ‘2018-19-02’]\n",
    "\n",
    "    Напишите функцию, которая проверяет эти даты на корректность. \n",
    "    Т. е. для каждой даты возвращает True (дата корректна) или False (некорректная дата).\n",
    "    \"\"\"\n",
    "\n",
    "    for value in stream:\n",
    "        try:\n",
    "            dt = datetime.strptime(value, '%Y-%m-%d')\n",
    "            print(value, True)\n",
    "        except:\n",
    "            print(value, False)\n",
    "            \n",
    "checkStream(stream)"
   ]
  },
  {
   "cell_type": "code",
   "execution_count": 34,
   "metadata": {},
   "outputs": [
    {
     "name": "stdout",
     "output_type": "stream",
     "text": [
      "[datetime.datetime(2020, 9, 27, 0, 14, 41, 238679), datetime.datetime(2020, 9, 26, 0, 14, 41, 238679), datetime.datetime(2020, 9, 25, 0, 14, 41, 238679)]\n"
     ]
    }
   ],
   "source": [
    "import datetime\n",
    "\n",
    "#print(datetime.datetime.now() + datetime.timedelta(days=100, hours=7))\n",
    "def date_range(start_date, end_date):\n",
    "    ds = start_date\n",
    "    \"\"\"\n",
    "    Задание 3\n",
    "    Напишите функцию date_range, которая возвращает список дат за период \n",
    "    от start_date до end_date. Даты должны вводиться в формате YYYY-MM-DD. \n",
    "    В случае неверного формата или при start_date > end_date \n",
    "    должен возвращаться пустой список.\n",
    "    \"\"\"\n",
    "    days_between = (end_date-start_date).days\n",
    "    \n",
    "    return [start_date - datetime.timedelta(days=x) for x in range(days_between)]\n",
    "\n",
    "print(date_range(\"2020-09-01\", \"2020-09-30\"))\n",
    "#print(date_range(datetime.datetime.today(), datetime.datetime.now() + datetime.timedelta(days=3, hours=7)))"
   ]
  }
 ],
 "metadata": {
  "kernelspec": {
   "display_name": "Python 3",
   "language": "python",
   "name": "python3"
  },
  "language_info": {
   "codemirror_mode": {
    "name": "ipython",
    "version": 3
   },
   "file_extension": ".py",
   "mimetype": "text/x-python",
   "name": "python",
   "nbconvert_exporter": "python",
   "pygments_lexer": "ipython3",
   "version": "3.7.9"
  }
 },
 "nbformat": 4,
 "nbformat_minor": 4
}
