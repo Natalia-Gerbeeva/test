{
 "cells": [
  {
   "cell_type": "code",
   "execution_count": 39,
   "metadata": {},
   "outputs": [
    {
     "name": "stdout",
     "output_type": "stream",
     "text": [
      "klj\n",
      "нечетное\n",
      "l\n"
     ]
    }
   ],
   "source": [
    "# Задание 1\n",
    "#Дана переменная, в которой хранится слово из латинских букв. Напишите код, который выводит на экран:\n",
    "\n",
    "#среднюю букву, если число букв в слове нечетное;\n",
    "#две средних буквы, если число букв четное.\n",
    "\n",
    "word = input()\n",
    "length = len(word)\n",
    "posit = int(length/2)\n",
    "\n",
    "if (length %2 > 0):\n",
    "    print(\"нечетное\")\n",
    "    print(word[int(posit)])\n",
    "    \n",
    "elif(length %2 == 0):\n",
    "    print(\"четное\")\n",
    "    print(word[posit-1:posit+1])\n",
    "    \n",
    "    \n",
    "    "
   ]
  },
  {
   "cell_type": "code",
   "execution_count": 2,
   "metadata": {},
   "outputs": [
    {
     "name": "stdout",
     "output_type": "stream",
     "text": [
      "Введите число: 8\n",
      "Введите число: 7\n",
      "Введите число: 6\n",
      "Введите число: 0\n",
      "21\n"
     ]
    }
   ],
   "source": [
    "#Задание 2\n",
    "#Напишите программу, которая последовательно запрашивает у пользователя числа\n",
    "#(по одному за раз) и после первого нуля выводит сумму всех ранее введенных чисел. \n",
    "\n",
    "\n",
    "summa = 0\n",
    "chislo = \"\"\n",
    "while chislo != 0:\n",
    "    chislo = int(input(\"Введите число: \"))\n",
    "    summa += chislo\n",
    "print(summa)\n",
    " \n",
    "    \n"
   ]
  },
  {
   "cell_type": "code",
   "execution_count": 22,
   "metadata": {},
   "outputs": [
    {
     "name": "stdout",
     "output_type": "stream",
     "text": [
      "Кто-то может остаться без пары!\n"
     ]
    }
   ],
   "source": [
    "#Задание 3\n",
    "#Мы делаем MVP dating-сервиса, и у нас есть список парней и девушек.\n",
    "#Выдвигаем гипотезу: лучшие рекомендации мы получим, если просто отсортируем \n",
    "#имена по алфавиту и познакомим людей с одинаковыми индексами после сортировки! \n",
    "#Но мы не будем никого знакомить, если кто-то может остаться без пары:\n",
    "\n",
    "boys = ['Peter', 'Alex', 'John', 'Arthur', 'Richard', 'dghjj']\n",
    "girls = ['Kate', 'Liza', 'Kira', 'Emma', 'Trisha']\n",
    "\n",
    "if len(boys) == len(girls):\n",
    "    boys.sort()\n",
    "    girls.sort()\n",
    "    print(\"идеальные пары:\")\n",
    "    for i in range(0, len(boys)):\n",
    "        print(str(boys[i]) + \" и \" + str(girls[i]))\n",
    "else:\n",
    "    print(\"Кто-то может остаться без пары!\")\n",
    "    \n",
    "              \n",
    "              "
   ]
  },
  {
   "cell_type": "code",
   "execution_count": null,
   "metadata": {},
   "outputs": [],
   "source": []
  },
  {
   "cell_type": "code",
   "execution_count": 31,
   "metadata": {},
   "outputs": [
    {
     "name": "stdout",
     "output_type": "stream",
     "text": [
      "Средняя температура в странах:\n",
      "Thailand - 23.9\n",
      "Germany - 13.8\n",
      "Russia - 3.7\n",
      "Poland - 12.0\n"
     ]
    }
   ],
   "source": [
    "#Задание 4\n",
    "#У нас есть список, содержащий информацию о среднедневной температуре в Фаренгейтах \n",
    "#за произвольный период по странам (структура данных в примере). Необходимо написать код, \n",
    "#который рассчитает среднюю температуру за период в Цельсиях(!) для каждой страны.\n",
    "\n",
    "def fah2cel(fah):\n",
    "    cel = 5.0*(fah - 32) / 9\n",
    "    return round(cel, 1)\n",
    "\n",
    "countries_temperature = [\n",
    "    ['Thailand', [75.2, 77, 78.8, 73.4, 68, 75.2, 77]],\n",
    "    ['Germany', [57.2, 55.4, 59, 59, 53.6]],\n",
    "    ['Russia', [35.6, 37.4, 39.2, 41, 42.8, 39.2, 35.6]],\n",
    "    ['Poland', [50, 50, 53.6, 57.2, 55.4, 55.4]]\n",
    "]\n",
    "\n",
    "print(\"Средняя температура в странах:\")\n",
    "for i in countries_temperature:\n",
    "    print(str(i[0]) + \" - \" + str(fah2cel(sum(i[1]) / len(i[1]))))\n",
    "\n"
   ]
  }
 ],
 "metadata": {
  "kernelspec": {
   "display_name": "Python 3",
   "language": "python",
   "name": "python3"
  },
  "language_info": {
   "codemirror_mode": {
    "name": "ipython",
    "version": 3
   },
   "file_extension": ".py",
   "mimetype": "text/x-python",
   "name": "python",
   "nbconvert_exporter": "python",
   "pygments_lexer": "ipython3",
   "version": "3.8.3"
  }
 },
 "nbformat": 4,
 "nbformat_minor": 4
}
