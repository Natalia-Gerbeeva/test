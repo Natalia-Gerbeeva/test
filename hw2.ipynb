{
 "cells": [
  {
   "cell_type": "code",
   "execution_count": null,
   "metadata": {},
   "outputs": [],
   "source": [
    "\"\"\"Задание 2\n",
    "Дана переменная, в которой хранится четырехзначное число (год).\n",
    "Необходимо написать программу, которая выведет, является ли данный год високосным или обычным.\n",
    "\n",
    "Пример работы программы:\n",
    "\n",
    "year = 2020\n",
    "Результат:\n",
    "Високосный год\n",
    "\n",
    "year = 2019\n",
    "Результат:\n",
    "Обычный год\"\"\"\n",
    "\n",
    "\n",
    "year = int(input())\n",
    "if year % 4 != 0:\n",
    "    print(\"Обычный год\")\n",
    "elif year % 100 == 0:\n",
    "    if year % 400 == 0:\n",
    "        print(\"Високосный год\")\n",
    "    else:\n",
    "        print(\"Обычный год\")\n",
    "else:\n",
    "    print(\"Високосный год\")\n"
   ]
  },
  {
   "cell_type": "code",
   "execution_count": 3,
   "metadata": {},
   "outputs": [
    {
     "name": "stdout",
     "output_type": "stream",
     "text": [
      "Введите день:\n",
      "22\n",
      "Введите месяц:\n",
      "февраль\n",
      "Рыбы\n"
     ]
    }
   ],
   "source": [
    "\"\"\"Задание 3\n",
    "Необходимо написать программу, которая будет запрашивать у пользователя месяц и дату рождения \n",
    "и выводить соответствующий знак зодиака.\n",
    "\n",
    "Пример работы программы:\n",
    "\n",
    "Введите день:\n",
    "30\n",
    "\n",
    "Введите месяц:\n",
    "Август\n",
    "Результат:\n",
    "Ваш знак зодиака: Дева\n",
    "\n",
    "Введите день:\n",
    "29\n",
    "\n",
    "Введите месяц:\n",
    "Октябрь\n",
    "Результат:\n",
    "Ваш знак зодиака: Скорпион\"\"\"\n",
    "\n",
    "print('Введите день:')\n",
    "date = int(input())\n",
    "    \n",
    "print(\"Введите месяц:\")\n",
    "month = str(input()).lower()\n",
    "\n",
    "value = \"\"\n",
    "\n",
    "if month == \"январь\"       and date >= 20  or  month == \"февраль\"  and date <= 18:\n",
    "    value=\"Водолей\"\n",
    "elif ( month == \"февраль\"  and date>=19  or  month == \"март\"  and date<=20):\n",
    "    value=\"Рыбы\"\n",
    "elif ( month == \"март\"     and date>=21  or  month == \"апрель\"  and date<=19):\n",
    "    value=\"Овен\"\n",
    "elif ( month == \"апрель\"   and date>=20  or  month == \"май\"  and date<=20):\n",
    "    value=\"Телец\"\n",
    "elif ( month == \"май\"      and date>=21  or  month == \"июнь\"  and date<=21):\n",
    "    value=\"Близнецы\"\n",
    "elif ( month == \"июнь\"     and date>=22  or  month == \"июль\"  and date<=22):\n",
    "    value=\"Рак\"\n",
    "elif ( month == \"июль\"     and date>=23  or  month == \"август\"  and date<=22):\n",
    "    value=\"Лев\"\n",
    "elif ( month == \"август\"   and date>=23  or  month == \"сентябрь\"  and date<=22):\n",
    "    value=\"Дева\"\n",
    "elif ( month == \"сентябрь\" and date>=23  or  month == \"октябрь\"  and date<=22):\n",
    "    value=\"Весы\"\n",
    "elif ( month == \"октябрь\"  and date>=23  or  month == \"ноябрь\"  and date<=21):\n",
    "    value=\"Скорпион\"\n",
    "elif ( month == \"ноябрь\"   and date>=22  or  month == \"декабрь\"  and date<=21):\n",
    "    value=\"Стрелец\"\n",
    "elif ( month == \"декабрь\"  and date>=22  or  month == \"январь\"  and date<=19):\n",
    "    value=\"Козерог\"\n",
    "else:\n",
    "    value=\"Неверная дата!\"  \n",
    "print(value)"
   ]
  },
  {
   "cell_type": "code",
   "execution_count": 5,
   "metadata": {},
   "outputs": [
    {
     "name": "stdout",
     "output_type": "stream",
     "text": [
      "Введите ширину:\n",
      "65\n",
      "Введите длину:\n",
      "176\n",
      "Введите высоту:\n",
      "40\n",
      "Коробка №2\n"
     ]
    }
   ],
   "source": [
    "\"\"\"Задание 4\n",
    "Вам нужно написать программу для подбора упаковок по размерам товара. Размеры хранятся в переменных (в сантиметрах):\n",
    "\n",
    "width = 10\n",
    "length = 205\n",
    "height = 5\n",
    "Используйте следующие правила:\n",
    "\n",
    "если каждое из трех измерений менее 15 сантиметров, то выведите на экран “Коробка №1”;\n",
    "если хотя бы одно из измерений больше 15 сантиметров, но менее 50 сантиметров, то выводите “Коробка №2”;\n",
    "если длина товара больше 2 метров, то выводите “Упаковка для лыж”;\n",
    "во всех остальных случаях выводите “Стандартная коробка №3”.\"\"\"\n",
    "\n",
    "width = 10\n",
    "length = 205\n",
    "height = 5\n",
    "\n",
    "print(\"Введите ширину:\")\n",
    "in_width = int(input())\n",
    "print(\"Введите длину:\")\n",
    "in_length = int(input())\n",
    "print(\"Введите высоту:\")\n",
    "in_height = int(input())\n",
    "\n",
    "if in_width < 15 and in_length < 15 and in_height < 15:\n",
    "    print(\"Коробка №1\")\n",
    "elif in_width > 15 and in_width < 50 or in_length > 15 and in_length < 50 or in_height > 15 and  in_height < 50:\n",
    "    print(\"Коробка №2\")\n",
    "elif in_length > 200:\n",
    "    print(\"Упаковка для лыж\")\n",
    "else:\n",
    "    print(\"Стандартная коробка №3\")"
   ]
  }
 ],
 "metadata": {
  "kernelspec": {
   "display_name": "Python 3",
   "language": "python",
   "name": "python3"
  },
  "language_info": {
   "codemirror_mode": {
    "name": "ipython",
    "version": 3
   },
   "file_extension": ".py",
   "mimetype": "text/x-python",
   "name": "python",
   "nbconvert_exporter": "python",
   "pygments_lexer": "ipython3",
   "version": "3.7.7"
  }
 },
 "nbformat": 4,
 "nbformat_minor": 4
}
