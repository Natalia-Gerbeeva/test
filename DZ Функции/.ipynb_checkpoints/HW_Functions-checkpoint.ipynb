{
 "cells": [
  {
   "cell_type": "code",
   "execution_count": 15,
   "metadata": {},
   "outputs": [],
   "source": [
    "\"\"\"\n",
    "Общие требования к программе:\n",
    "\n",
    "    код должен быть грамотно декомпозирован (каждая функция отвечает за свою конкретную задачу, дублирующийся функционал переиспользуется, а его код не повторяется);\n",
    "    в коде отсутствуют глобальные переменные (за исключением documents и directories);\n",
    "    пользовательский ввод обрабатывается в цикле while до тех пор, пока пользователь явно не завершит программу (вводом команды \"q\").\n",
    "\"\"\"\n",
    "\n",
    "#перечень всех документов\n",
    "\n",
    "documents = [\n",
    " {'type': 'passport', 'number': '2207 876234', 'name': 'Василий Гупкин'},\n",
    " {'type': 'invoice', 'number': '11-2', 'name': 'Геннадий Покемонов'},\n",
    " {'type': 'insurance', 'number': '10006', 'name': 'Аристарх Павлов'}\n",
    "]\n",
    "\n",
    "#перечень полок, на которых хранятся документы (если документ есть в documents, то он обязательно должен быть и в directories)\n",
    "\n",
    "directories = {\n",
    " '1': ['2207 876234', '11-2'],\n",
    " '2': ['10006'],\n",
    " '3': [],\n",
    "}"
   ]
  },
  {
   "cell_type": "code",
   "execution_count": 68,
   "metadata": {},
   "outputs": [
    {
     "name": "stdout",
     "output_type": "stream",
     "text": [
      "Введите номер документа:10006\n",
      "Владелец документа: Аристарх Павлов\n"
     ]
    }
   ],
   "source": [
    "def search_document():\n",
    "    is_found = False\n",
    "    \"\"\"\n",
    "    #Пункт 1. Пользователь по команде \"p\" может узнать владельца документа по его номеру\n",
    "    \n",
    "    Введите номер документа:\n",
    "    10006\n",
    "\n",
    "    Результат:\n",
    "    Владелец документа: Аристарх Павлов\n",
    "    \"\"\"\n",
    "    user_input = input('Введите номер документа: ')\n",
    "\n",
    "    for row in documents:\n",
    "        if row[\"number\"] == user_input:\n",
    "            is_found = True\n",
    "            print(\"Владелец документа:\", row[\"name\"])\n",
    "\n",
    "    if is_found == False: \n",
    "        print(\"Документ не найден.\")"
   ]
  },
  {
   "cell_type": "code",
   "execution_count": 94,
   "metadata": {},
   "outputs": [
    {
     "name": "stdout",
     "output_type": "stream",
     "text": [
      "Введите номер документа: 10006\n",
      "Документ хранится на полке: 2\n"
     ]
    }
   ],
   "source": [
    "def search_storage():\n",
    "    is_found = False\n",
    "    \"\"\"\n",
    "    Пункт 2. Пользователь по команде \"s\" может по номеру документа узнать на какой полке он хранится\n",
    "\n",
    "    Введите команду:\n",
    "    s\n",
    "\n",
    "    Введите номер документа:\n",
    "    10006\n",
    "\n",
    "    Результат:\n",
    "    Документ хранится на полке: 2\n",
    "    \"\"\"\n",
    "    user_input = input('Введите номер документа: ')\n",
    "\n",
    "    for row in directories.items():\n",
    "        try:\n",
    "            if row[1].index(user_input) is not None:\n",
    "                is_found = True\n",
    "                print(\"Документ хранится на полке:\", row[0])\n",
    "        except:\n",
    "            pass\n",
    "    \n",
    "    if is_found == False: \n",
    "        print(\"Документ не найден.\")\n",
    "\n",
    "#search_storage()"
   ]
  },
  {
   "cell_type": "code",
   "execution_count": 114,
   "metadata": {},
   "outputs": [],
   "source": [
    "def show_info():\n",
    "    is_found = False\n",
    "    \"\"\"\n",
    "    Пункт 3. Пользователь по команде \"l\" может увидеть полную информацию по всем документам\n",
    "\n",
    "    Пример работы:\n",
    "\n",
    "    Введите команду:\n",
    "    l\n",
    "\n",
    "    Результат:\n",
    "\n",
    "    №: 2207 876234, тип: passport, владелец: Василий Гупкин, полка хранения: 1\n",
    "    №: 11-2, тип: invoice, владелец: Геннадий Покемонов, полка хранения: 1\n",
    "    №: 10006, тип: insurance, владелец: Аристарх Павлов, полка хранения: 2\n",
    "    \"\"\"\n",
    "    for value in documents:\n",
    "        storage = \"\"\n",
    "        for row in directories.items():\n",
    "            try:\n",
    "                if row[1].index(value[\"number\"]) is not None:\n",
    "                    storage = row[0]\n",
    "            except:\n",
    "                pass\n",
    "        print(\"№: \" + value[\"number\"] + \", тип: \" + value[\"type\"] + \", владелец: \" + value[\"name\"] + \", полка хранения: \" + storage)\n",
    "\n",
    "#show_info()"
   ]
  },
  {
   "cell_type": "code",
   "execution_count": 9,
   "metadata": {},
   "outputs": [],
   "source": [
    "def add_storage():\n",
    "    is_found = False\n",
    "    \"\"\"\n",
    "    Пункт 4. Пользователь по команде \"ads\" может добавить новую полку\n",
    "    Примеры работы:\n",
    "    1.\n",
    "    Введите команду:\n",
    "    ads\n",
    "    Введите номер полки:\n",
    "    10\n",
    "    Результат:\n",
    "    Полка добавлена. Текущий перечень полок: 1, 2, 3, 10.\n",
    "    2.\n",
    "    Введите команду:\n",
    "    ads\n",
    "    Введите номер полки:\n",
    "    1\n",
    "    Результат:\n",
    "    Такая полка уже существует. Текущий перечень полок: 1, 2, 3.\n",
    "    \"\"\"\n",
    "    user_input = input('Введите номер полки: ')\n",
    "\n",
    "    storage_list = \"\"\n",
    "    for key, value in directories.items():\n",
    "        if storage_list == \"\":\n",
    "            storage_list += key\n",
    "        else:\n",
    "            storage_list += \", \" + key\n",
    "\n",
    "        if key == user_input:\n",
    "            is_found = True\n",
    "\n",
    "    if is_found == False:\n",
    "        directories.update({user_input : []})\n",
    "        print(\"Полка добавлена. Текущий перечень полок: \"+ storage_list + \", \" + user_input + \".\")\n",
    "    else:\n",
    "        print(\"Такая полка уже существует. Текущий перечень полок: \" + storage_list + \".\")\n",
    "\n",
    "#add_storage()"
   ]
  },
  {
   "cell_type": "code",
   "execution_count": 34,
   "metadata": {},
   "outputs": [
    {
     "name": "stdout",
     "output_type": "stream",
     "text": [
      "На полке есть документы, удалите их перед удалением полки. Текущий перечень полок: 1, 2, 3, 10.\n"
     ]
    }
   ],
   "source": [
    "def count_dict():\n",
    "    storage_list = \"\"\n",
    "    for key, value in directories.items():\n",
    "        if storage_list == \"\":\n",
    "            storage_list += key\n",
    "        else:\n",
    "            storage_list += \", \" + key\n",
    "    return storage_list\n",
    "\n",
    "def delete_storage():\n",
    "    is_found = False\n",
    "    is_empty = False\n",
    "    \"\"\"\n",
    "    Пункт 5. Пользователь по команде \"ds\" может удалить существующую полку из данных (только если она пустая) \n",
    "    Примеры работы:\n",
    "    1.\n",
    "    Введите команду:\n",
    "    ds\n",
    "    Введите номер полки:\n",
    "    3\n",
    "    Результат:\n",
    "    Полка удалена. Текущий перечень полок: 1, 2.\n",
    "    2.\n",
    "    Введите команду:\n",
    "    ds\n",
    "    Введите номер полки:\n",
    "    1\n",
    "    Результат:\n",
    "    На полке есть документа, удалите их перед удалением полки. Текущий перечень полок: 1, 2, 3.\n",
    "    3.\n",
    "    Введите команду:\n",
    "    ds\n",
    "    Введите номер полки:\n",
    "    4\n",
    "    Результат:\n",
    "    Такой полки не существует. Текущий перечень полок: 1, 2, 3.\n",
    "    \"\"\"\n",
    "    user_input = input('Введите номер полки: ')\n",
    "\n",
    "    for key, value in directories.items():\n",
    "        if key == user_input:\n",
    "            is_found = True\n",
    "\n",
    "        is_empty = False\n",
    "\n",
    "        if len(value) == 0:\n",
    "            is_empty = True\n",
    "\n",
    "        if is_found == True:\n",
    "            break\n",
    "\n",
    "    if is_found == True and is_empty == True:\n",
    "        try:\n",
    "            del directories[user_input]\n",
    "        except:\n",
    "            pass\n",
    "\n",
    "        print(\"Полка удалена. Текущий перечень полок: \" + count_dict() + \".\")\n",
    "\n",
    "    elif is_found == True and is_empty == False:\n",
    "        print(\"На полке есть документы, удалите их перед удалением полки. Текущий перечень полок: \" + count_dict() + \".\")\n",
    "\n",
    "    elif is_found == False:\n",
    "        print(\"Такой полки не существует. Текущий перечень полок: \" + count_dict() + \".\")\n",
    "\n",
    "delete_storage()"
   ]
  },
  {
   "cell_type": "code",
   "execution_count": 118,
   "metadata": {},
   "outputs": [],
   "source": [
    "def main():\n",
    "    user_input = input('Введите команду: ')\n",
    "    if user_input == 'p':\n",
    "        search_document()\n",
    "    elif user_input == 's':\n",
    "        search_storage()\n",
    "    elif user_input == 'l':\n",
    "        show_info()\n",
    "    elif user_input == 'ads':\n",
    "        add_storage()\n",
    "    elif user_input == 'ds':\n",
    "        delete_storage()"
   ]
  },
  {
   "cell_type": "code",
   "execution_count": 116,
   "metadata": {},
   "outputs": [
    {
     "name": "stdout",
     "output_type": "stream",
     "text": [
      "Введите команду: l\n",
      "№: 2207 876234, тип: passport, владелец: Василий Гупкин, полка хранения: 1\n",
      "№: 11-2, тип: invoice, владелец: Геннадий Покемонов, полка хранения: 1\n",
      "№: 10006, тип: insurance, владелец: Аристарх Павлов, полка хранения: 2\n"
     ]
    }
   ],
   "source": [
    "main()"
   ]
  }
 ],
 "metadata": {
  "kernelspec": {
   "display_name": "Python 3",
   "language": "python",
   "name": "python3"
  },
  "language_info": {
   "codemirror_mode": {
    "name": "ipython",
    "version": 3
   },
   "file_extension": ".py",
   "mimetype": "text/x-python",
   "name": "python",
   "nbconvert_exporter": "python",
   "pygments_lexer": "ipython3",
   "version": "3.7.9"
  }
 },
 "nbformat": 4,
 "nbformat_minor": 4
}
