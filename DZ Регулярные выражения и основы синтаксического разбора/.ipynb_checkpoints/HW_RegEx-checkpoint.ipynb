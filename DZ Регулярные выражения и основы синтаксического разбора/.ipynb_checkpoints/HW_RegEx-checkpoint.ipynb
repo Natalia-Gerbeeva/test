{
 "cells": [
  {
   "cell_type": "markdown",
   "metadata": {},
   "source": [
    "https://github.com/obulygin/pyda_homeworks/blob/master/regex/regex.ipynb\n",
    "\n",
    "Домашнее задание к лекции \"Регулярные выражения\"\n",
    "\n",
    "Внимание! При реализации всех заданий необходимо использовать именно функционал регулярных выражений для обработки текста.\n",
    "\n",
    "Задание 1\n",
    "\n",
    "Напишите функцию, которая принимает на вход строку и проверяет является ли она валидным транспортным номером (1 буква, 3 цифры, 2 буквы, 2-3 цифры). Обратите внимание, что не все буквы кириллического алфавита используются в транспортных номерах.\n",
    "\n",
    "Если номер валиден, то функция должна возвращать отдельно номер и регион.\n",
    "\n",
    "Примеры работы программы:\n",
    "\n",
    "    car_id = 'A222BC96'\n",
    "\n",
    "Результат: Номер A222BС валиден. Регион: 96\n",
    "\n",
    "    car_id = 'АБ22ВВ193'\n",
    "\n",
    "Результат: Номер не валиден\n",
    "\n",
    "Задание 2\n",
    "\n",
    "Напишите функцию, которая будет удалять все последовательные повторы слов из заданной строки при помощи регулярных выражений.\n",
    "\n",
    "Пример работы программы:\n",
    "\n",
    "some_string = 'Напишите функцию функцию, которая будет будет будет будет удалять все все все все последовательные повторы слов из из из из заданной строки строки при помощи регулярных выражений.'\n",
    "\n",
    "Результат:\n",
    "Напишите функцию, которая будет удалять все последовательные повторы слов из заданной строки при помощи регулярных выражений.\n",
    "\n",
    "Задание 3\n",
    "\n",
    "Напишите функцию, которая будет возвращать акроним по переданной в нее строке со словами.\n",
    "\n",
    "Примеры работы программы:\n",
    "\n",
    "    some_words = 'Информационные технологии'\n",
    "\n",
    "Результат: ИТ\n",
    "\n",
    "    some_words = 'Near Field Communication'\n",
    "\n",
    "Результат: NFC\n",
    "\n",
    "Задание 4\n",
    "\n",
    "Напишите функцию, которая будет принимать на вход список email-адресов и выводить их распределение по доменным зонам.\n",
    "\n",
    "Пример работы программы:\n",
    "\n",
    "emails = ['test@gmail.com', 'xyz@test.in', 'test@ya.ru', 'xyz@mail.ru', 'xyz@ya.ru', 'xyz@gmail.com']\n",
    "\n",
    "Результат:\n",
    "\n",
    "gmail.com: 2\n",
    "test.in: 1 \n",
    "ya.ru: 2 \n",
    "mail.ru: 1\n",
    "\n"
   ]
  },
  {
   "cell_type": "markdown",
   "metadata": {},
   "source": [
    "Задание 1\n",
    "\n",
    "Напишите функцию, которая принимает на вход строку и проверяет является ли она валидным транспортным номером (1 буква, 3 цифры, 2 буквы, 2-3 цифры). Обратите внимание, что не все буквы кириллического алфавита используются в транспортных номерах.\n",
    "\n",
    "Если номер валиден, то функция должна возвращать отдельно номер и регион.\n",
    "\n",
    "Примеры работы программы:\n",
    "\n",
    "car_id = 'A222BC96'\n",
    "\n",
    "Результат: Номер A222BС валиден. Регион: 96\n",
    "\n",
    "car_id = 'АБ22ВВ193'\n",
    "\n",
    "Результат: Номер не валиден"
   ]
  },
  {
   "cell_type": "code",
   "execution_count": 1,
   "metadata": {
    "scrolled": true
   },
   "outputs": [
    {
     "name": "stdout",
     "output_type": "stream",
     "text": [
      "Номер A222BC валиден. Регион: 96\n",
      "Номер не валиден.\n"
     ]
    }
   ],
   "source": [
    "import re\n",
    "\n",
    "def checkRegNum(regNum):\n",
    "    regNumPattern = r'\\w\\d{3}\\w{2}\\d{2}'\n",
    "    if re.match(regNumPattern, regNum):\n",
    "        print(\"Номер \" + str(re.findall(r'\\w\\d{3}\\w{2}', regNum)).strip(\"['']\") + \" валиден. Регион: \" + str(re.findall(r'\\d{2}$', regNum)).strip(\"['']\"))\n",
    "    else:\n",
    "        print(\"Номер не валиден.\")\n",
    "    \n",
    "\n",
    "car_id = 'A222BC96'\n",
    "checkRegNum(car_id)\n",
    "\n",
    "car_id = 'АБ22ВffВ193'\n",
    "checkRegNum(car_id)"
   ]
  },
  {
   "cell_type": "markdown",
   "metadata": {},
   "source": [
    "Задание 2\n",
    "Напишите функцию, которая будет удалять все последовательные повторы слов из заданной строки при помощи регулярных выражений.\n",
    "\n",
    "Пример работы программы:\n",
    "\n",
    "some_string = ‘Напишите функцию функцию, которая будет будет будет будет удалять все все все все последовательные повторы слов из из из из заданной строки строки при помощи регулярных выражений’\n",
    "\n",
    "Результат: Напишите функцию, которая будет удалять все последовательные повторы слов из заданной строки при помощи регулярных выражений."
   ]
  },
  {
   "cell_type": "code",
   "execution_count": 2,
   "metadata": {
    "scrolled": true
   },
   "outputs": [
    {
     "name": "stdout",
     "output_type": "stream",
     "text": [
      "Напишите функцию,\n",
      "которая будет удалять все последовательные \n",
      "повторы слов из заданной строки при помощи регулярных выражений\n"
     ]
    }
   ],
   "source": [
    "import re\n",
    "\n",
    "some_string = \"\"\"Напишите функцию функцию,\n",
    "которая будет будет будет будет удалять все все все все последовательные \n",
    "повторы слов из из из из заданной строки строки при помощи регулярных выражений\"\"\"\n",
    "\n",
    "def cleanData(someString):\n",
    "    print(re.sub(r'\\b(\\w+)(?:\\s+\\1\\b)+', r'\\1', someString))\n",
    "    \n",
    "    #print(re.split(r'\\s', someString))\n",
    "    #print(' '.join(list(set(re.split(r'\\s', someString)))))\n",
    "\n",
    "cleanData(some_string)"
   ]
  },
  {
   "cell_type": "markdown",
   "metadata": {},
   "source": [
    "Задание 3\n",
    "\n",
    "Напишите функцию, которая будет возвращать акроним по переданной в нее строке со словами.\n",
    "\n",
    "Примеры работы программы:\n",
    "\n",
    "    some_words = 'Информационные технологии'\n",
    "\n",
    "Результат: ИТ\n",
    "\n",
    "    some_words = 'Near Field Communication'\n",
    "\n",
    "Результат: NFC\n"
   ]
  },
  {
   "cell_type": "code",
   "execution_count": 3,
   "metadata": {},
   "outputs": [
    {
     "name": "stdout",
     "output_type": "stream",
     "text": [
      "ИТ\n",
      "NFC\n"
     ]
    }
   ],
   "source": [
    "import re\n",
    "\n",
    "def getAcronim(someString):\n",
    "    return ''.join(re.findall(r'\\b\\w', someString)).upper()\n",
    "\n",
    "some_words = 'Информационные технологии'\n",
    "print(getAcronim(some_words))\n",
    "\n",
    "some_words = 'Near Field Communication'\n",
    "print(getAcronim(some_words))"
   ]
  },
  {
   "cell_type": "markdown",
   "metadata": {},
   "source": [
    "# Задание 4\n",
    "\n",
    "Напишите функцию, которая будет принимать на вход список email-адресов и выводить их распределение по доменным зонам.\n",
    "\n",
    "Пример работы программы:\n",
    "\n",
    "emails = ['test@gmail.com', 'xyz@test.in', 'test@ya.ru', 'xyz@mail.ru', 'xyz@ya.ru', 'xyz@gmail.com']\n",
    "\n",
    "Результат:\n",
    "\n",
    "gmail.com: 2\n",
    "test.in: 1 \n",
    "ya.ru: 2 \n",
    "mail.ru: 1\n",
    "\n"
   ]
  },
  {
   "cell_type": "code",
   "execution_count": 129,
   "metadata": {},
   "outputs": [
    {
     "name": "stdout",
     "output_type": "stream",
     "text": [
      "gmail.com: 2\n",
      "mail.ru: 1\n",
      "test.in: 1\n",
      "ya.ru: 2\n"
     ]
    }
   ],
   "source": [
    "import re\n",
    "import numpy\n",
    "\n",
    "emails = ['test@gmail.com'\n",
    "          , 'xyz@test.in'\n",
    "          , 'test@ya.ru'\n",
    "          , 'xyz@mail.ru'\n",
    "          , 'xyz@ya.ru'\n",
    "          , 'xyz@gmail.com']\n",
    "\n",
    "def showDistr(iList):\n",
    "    #print(re.findall(r'\\@(\\w+)+.(\\w+)', ' '.join(iList)))\n",
    "    #print(re.findall(r'\\@([\\w]+\\.[^\\s]+)', ' '.join(iList)))\n",
    "    \n",
    "    arr = re.findall(r'\\@([\\w]+\\.[^\\s]+)', ' '.join(iList))\n",
    "    email, count = numpy.unique(arr, return_counts=True)\n",
    "\n",
    "    i = 0\n",
    "    for e in email:\n",
    "        print(str(e) + \": \" + str(count[i]))\n",
    "        i += 1\n",
    "    \n",
    "showDistr(emails)"
   ]
  }
 ],
 "metadata": {
  "kernelspec": {
   "display_name": "Python 3",
   "language": "python",
   "name": "python3"
  },
  "language_info": {
   "codemirror_mode": {
    "name": "ipython",
    "version": 3
   },
   "file_extension": ".py",
   "mimetype": "text/x-python",
   "name": "python",
   "nbconvert_exporter": "python",
   "pygments_lexer": "ipython3",
   "version": "3.7.9"
  }
 },
 "nbformat": 4,
 "nbformat_minor": 4
}
